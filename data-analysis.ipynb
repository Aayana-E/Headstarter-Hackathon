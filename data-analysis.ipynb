{
 "cells": [
  {
   "cell_type": "code",
   "execution_count": null,
   "metadata": {},
   "outputs": [],
   "source": [
    "\n",
    "def checkRating():\n",
    "    for i in ratings:\n",
    "        if(ratings[i] <= 6.4):\n",
    "            print(str(rating[i]) + \" NO OFFER!\") # placeholder\n",
    "        elif(ratings[i] > 6.5):\n",
    "            print(str(rating[i]) + \" We shall consider you....\")\n",
    "            #checkIncome()\n",
    "\n",
    "incomes = analysis_table['Income'].astype(float)\n",
    "def checkIncome():\n",
    "    for i in incomes:\n",
    "        if(income)\n",
    "    \n",
    "#def timeSpentonCourses():\n",
    "probability = analysis_table['Probability'].astype(float) \n",
    "def checkOfferProbability():\n",
    "    for i in probability:\n",
    "        if(probability[i] < 85.0):\n",
    "            print(\"NO OFFER!\")\n",
    "        elif(probability[i] >= 85.0):\n",
    "            print(\"DISCOUNT + MERCH!\")\n"
   ]
  }
 ],
 "metadata": {
  "kernelspec": {
   "display_name": "Python 3.9.13 ('base')",
   "language": "python",
   "name": "python3"
  },
  "language_info": {
   "codemirror_mode": {
    "name": "ipython",
    "version": 3
   },
   "file_extension": ".py",
   "mimetype": "text/x-python",
   "name": "python",
   "nbconvert_exporter": "python",
   "pygments_lexer": "ipython3",
   "version": "3.9.13"
  },
  "orig_nbformat": 4,
  "vscode": {
   "interpreter": {
    "hash": "d8434a693646d0bbd7d06e2222624e0fadf2bec754e74c1f7d5269816e2299e2"
   }
  }
 },
 "nbformat": 4,
 "nbformat_minor": 2
}
